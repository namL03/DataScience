{
 "cells": [
  {
   "cell_type": "code",
   "execution_count": 1,
   "id": "27ed7b08",
   "metadata": {},
   "outputs": [
    {
     "name": "stdout",
     "output_type": "stream",
     "text": [
      "Number of features in the input of the model: 21\n",
      "Fitting 3 folds for each of 1 candidates, totalling 3 fits\n",
      "Mean Absolute Error (MAE): 52704434994.39964\n",
      "Mean Squared Error (MSE): 2.6754654403554206e+22\n",
      "R-squared (R2) Score: 0.9906273404294118\n"
     ]
    }
   ],
   "source": [
    "import pandas as pd\n",
    "import numpy as np\n",
    "from sklearn.model_selection import train_test_split, GridSearchCV\n",
    "from sklearn.ensemble import RandomForestRegressor\n",
    "from sklearn.metrics import mean_squared_error, mean_absolute_error, r2_score\n",
    "import joblib\n",
    "\n",
    "# Load the dataset\n",
    "data = pd.read_csv('Data/World Bank Dataset.csv')\n",
    "\n",
    "# Assuming 'GDP' is the target variable and the rest are features\n",
    "X = data.drop(['Country Name', 'Year', 'GDP (current US$)'], axis=1)\n",
    "y = data['GDP (current US$)']\n",
    "\n",
    "# Print the number of features\n",
    "num_features = X.shape[1]  # Number of columns in X\n",
    "print(f'Number of features in the input of the model: {num_features}')\n",
    "\n",
    "# Split the data into train and test sets\n",
    "X_train, X_test, y_train, y_test = train_test_split(X, y, test_size=0.2, random_state=42)\n",
    "model = RandomForestRegressor(random_state=42)\n",
    "param_grid = {\n",
    "    'n_estimators': [100],\n",
    "    'max_features': ['sqrt'],  # Removed 'auto'\n",
    "    'max_depth': [20],\n",
    "    'min_samples_split': [2],\n",
    "    'min_samples_leaf': [1]\n",
    "}\n",
    "\n",
    "# Setup the GridSearchCV\n",
    "grid_search = GridSearchCV(\n",
    "    estimator=model,\n",
    "    param_grid=param_grid,\n",
    "    cv=3,\n",
    "    scoring='neg_mean_squared_error',\n",
    "    verbose=2,\n",
    "    n_jobs=-1\n",
    ")\n",
    "\n",
    "# Fit GridSearchCV\n",
    "grid_search.fit(X_train, y_train)\n",
    "\n",
    "# Best estimator\n",
    "best_model = grid_search.best_estimator_\n",
    "\n",
    "# Save the best model\n",
    "joblib.dump(best_model, 'optimized_random_forest_gdp_model.pkl')\n",
    "\n",
    "# Predict on the test set\n",
    "y_pred = best_model.predict(X_test)\n",
    "\n",
    "# Calculate metrics\n",
    "mae = mean_absolute_error(y_test, y_pred)\n",
    "mse = mean_squared_error(y_test, y_pred)\n",
    "r2 = r2_score(y_test, y_pred)\n",
    "\n",
    "# Print metrics\n",
    "print(f'Mean Absolute Error (MAE): {mae}')\n",
    "print(f'Mean Squared Error (MSE): {mse}')\n",
    "print(f'R-squared (R2) Score: {r2}')"
   ]
  },
  {
   "cell_type": "code",
   "execution_count": 2,
   "id": "1408ffab",
   "metadata": {},
   "outputs": [
    {
     "name": "stdout",
     "output_type": "stream",
     "text": [
      "Predicted GDP: $167,507,042,245.29\n"
     ]
    },
    {
     "name": "stderr",
     "output_type": "stream",
     "text": [
      "C:\\Users\\Admin\\anaconda3\\Lib\\site-packages\\sklearn\\base.py:464: UserWarning: X does not have valid feature names, but RandomForestRegressor was fitted with feature names\n",
      "  warnings.warn(\n"
     ]
    }
   ],
   "source": [
    "feature_array = np.array([\n",
    "    75.0,  # Access to clean fuels and technologies for cooking (% of population)\n",
    "    90.0,  # Access to electricity (% of population)\n",
    "    10.0,  # Total alcohol consumption per capita (liters)\n",
    "    5.0,   # CO2 emissions (metric tons per capita)\n",
    "    500.0, # Current health expenditure per capita (current US$)\n",
    "    95.0,  # Immunization, DPT (%)\n",
    "    90.0,  # Immunization, HepB3 (%)\n",
    "    85.0,  # Immunization, measles (%)\n",
    "    75.0,  # Life expectancy at birth (years)\n",
    "    3.0,   # Hospital beds (per 1,000 people)\n",
    "    20.0,  # Mortality from CVD, cancer, diabetes, or CRD (%)\n",
    "    5.0,   # Mortality rate, adult, female (per 1,000 female adults)\n",
    "    6.0,   # Mortality rate, adult, male (per 1,000 male adults)\n",
    "    10.0,  # Mortality caused by road traffic injury (per 100,000 population)\n",
    "    30.0,  # Mortality rate, under-5 (per 1,000 live births)\n",
    "    1.5,   # Physicians (per 1,000 people)\n",
    "    25.0,  # PM2.5 air pollution, mean annual exposure (micrograms per cubic meter)\n",
    "    1000000, # Population, total\n",
    "    5.0,   # Prevalence of undernourishment (% of population)\n",
    "    12.0,  # Suicide mortality rate (per 100,000 population)\n",
    "    8.0    # Unemployment, total (% of total labor force)\n",
    "])\n",
    "feature_array = feature_array.reshape(1, -1)  # Reshape to 2D array\n",
    "\n",
    "# Predict GDP using the trained model\n",
    "predicted_gdp = best_model.predict([[9.96000000e+01, 1.00000000e+02, 1.09010700e+01, 6.12342695e+00,\n",
    "  3.90249725e+02, 9.80000000e+01, 9.70000000e+01, 9.80000000e+01,\n",
    "  7.42268293e+01, 1.08300000e+01, 2.38000000e+01, 7.98390000e+01,\n",
    "  2.31323000e+02, 7.60000000e+00, 3.10000000e+00, 4.43400000e+00,\n",
    "  1.64235129e+01, 9.41975800e+06, 2.50000000e+00, 2.12000000e+01,\n",
    "  4.16000000e+00]])\n",
    "\n",
    "# Print the predicted GDP\n",
    "print(f'Predicted GDP: ${predicted_gdp[0]:,.2f}')"
   ]
  },
  {
   "cell_type": "code",
   "execution_count": null,
   "id": "780810a0",
   "metadata": {},
   "outputs": [],
   "source": []
  },
  {
   "cell_type": "code",
   "execution_count": null,
   "id": "a50d7927",
   "metadata": {},
   "outputs": [],
   "source": []
  },
  {
   "cell_type": "code",
   "execution_count": null,
   "id": "8f03ff55",
   "metadata": {},
   "outputs": [],
   "source": []
  },
  {
   "cell_type": "code",
   "execution_count": null,
   "id": "e01d8f25",
   "metadata": {},
   "outputs": [],
   "source": []
  }
 ],
 "metadata": {
  "kernelspec": {
   "display_name": "myenv",
   "language": "python",
   "name": "python3"
  },
  "language_info": {
   "codemirror_mode": {
    "name": "ipython",
    "version": 3
   },
   "file_extension": ".py",
   "mimetype": "text/x-python",
   "name": "python",
   "nbconvert_exporter": "python",
   "pygments_lexer": "ipython3",
   "version": "3.13.0"
  }
 },
 "nbformat": 4,
 "nbformat_minor": 5
}
